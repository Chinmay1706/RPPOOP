{
 "cells": [
  {
   "cell_type": "code",
   "execution_count": 17,
   "id": "bc9ed2b5",
   "metadata": {},
   "outputs": [
    {
     "name": "stdout",
     "output_type": "stream",
     "text": [
      "The amount is deposited\n",
      "10232\n",
      "21500\n"
     ]
    }
   ],
   "source": [
    "import random\n",
    "\n",
    "class Account:\n",
    "    def __init__(self, name, acctype, balance):\n",
    "        self.name = name\n",
    "        self.acctype = acctype\n",
    "        self.accnumber = random.randint(1790000000,1799999999)\n",
    "        self.balance = balance\n",
    "        \n",
    "    def setBalanceToZero(self):\n",
    "        self.balance = 0.0\n",
    "        \n",
    "    def accountHolderName(self):\n",
    "        print(f\"{self.name}\")\n",
    "        \n",
    "    def displayBalance(self):\n",
    "        print(self.balance)\n",
    "        \n",
    "class Transaction:\n",
    "    def deposit(self, account, amount):\n",
    "        account.balance = account.balance + amount\n",
    "        print(\"The amount is deposited\")\n",
    "    \n",
    "    def withdraw(self, account, amount):\n",
    "        if(account.balance > 0):\n",
    "            account.balance = account.balance - amount\n",
    "            print(\"Amount withdrawn\")\n",
    "        else:\n",
    "            print(\"low balance\")\n",
    "    \n",
    "    def transferMoney(self, _from, _to, amt):\n",
    "        _from.balance = _from.balance - amt\n",
    "        _to.balance = _to.balance + amt\n",
    "\n",
    "        \n",
    "person1 = Account(\"Chinmay\", \"Saving\", 10000)\n",
    "person2 = Account(\"Sakshi\",\"Saving\",20000)\n",
    "\n",
    "t = Transaction()\n",
    "t.deposit(person1, 1732)\n",
    "\n",
    "t.transferMoney(person1, person2, 1500)\n",
    "\n",
    "person1.displayBalance()\n",
    "person2.displayBalance()"
   ]
  },
  {
   "cell_type": "code",
   "execution_count": null,
   "id": "71f58d91",
   "metadata": {},
   "outputs": [],
   "source": []
  }
 ],
 "metadata": {
  "kernelspec": {
   "display_name": "Python 3 (ipykernel)",
   "language": "python",
   "name": "python3"
  },
  "language_info": {
   "codemirror_mode": {
    "name": "ipython",
    "version": 3
   },
   "file_extension": ".py",
   "mimetype": "text/x-python",
   "name": "python",
   "nbconvert_exporter": "python",
   "pygments_lexer": "ipython3",
   "version": "3.9.13"
  }
 },
 "nbformat": 4,
 "nbformat_minor": 5
}
