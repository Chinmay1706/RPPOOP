{
 "cells": [
  {
   "cell_type": "code",
   "execution_count": 21,
   "id": "5dc766a9",
   "metadata": {},
   "outputs": [],
   "source": [
    "from tkinter import *\n",
    "\n",
    "win = Tk()\n",
    "win.title(\"Labels\")\n",
    "win.geometry(\"1080x720\")\n",
    "\n",
    "label1=Label(win, text=\"CHINMAY\", font=(\"Times\",200,\"bold\"), bg='red')\n",
    "label1.pack(side=TOP, pady=20)\n",
    "\n",
    "label2=Label(win, text=\"SHETH\", font=(\"Times\",200,\"bold\"), bg='blue')\n",
    "label2.pack(side=TOP, pady=20)\n",
    "\n",
    "win.mainloop()"
   ]
  },
  {
   "cell_type": "code",
   "execution_count": null,
   "id": "e0f4dc8b",
   "metadata": {},
   "outputs": [],
   "source": []
  }
 ],
 "metadata": {
  "kernelspec": {
   "display_name": "Python 3 (ipykernel)",
   "language": "python",
   "name": "python3"
  },
  "language_info": {
   "codemirror_mode": {
    "name": "ipython",
    "version": 3
   },
   "file_extension": ".py",
   "mimetype": "text/x-python",
   "name": "python",
   "nbconvert_exporter": "python",
   "pygments_lexer": "ipython3",
   "version": "3.9.13"
  }
 },
 "nbformat": 4,
 "nbformat_minor": 5
}
